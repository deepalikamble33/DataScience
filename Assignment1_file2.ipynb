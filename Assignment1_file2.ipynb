{
  "nbformat": 4,
  "nbformat_minor": 0,
  "metadata": {
    "colab": {
      "name": "Assignment1_file2.ipynb",
      "provenance": [],
      "collapsed_sections": [],
      "authorship_tag": "ABX9TyPal30PVZWBJAO1jCMqVM71",
      "include_colab_link": true
    },
    "kernelspec": {
      "name": "python3",
      "display_name": "Python 3"
    },
    "language_info": {
      "name": "python"
    }
  },
  "cells": [
    {
      "cell_type": "markdown",
      "metadata": {
        "id": "view-in-github",
        "colab_type": "text"
      },
      "source": [
        "<a href=\"https://colab.research.google.com/github/deepalikamble33/DataScience/blob/main/Assignment1_file2.ipynb\" target=\"_parent\"><img src=\"https://colab.research.google.com/assets/colab-badge.svg\" alt=\"Open In Colab\"/></a>"
      ]
    },
    {
      "cell_type": "markdown",
      "source": [
        "(Classifying Handwritten Digits from Tensorflow 2.x\n",
        "• Try improving the model and code the program from scratch \n",
        "• Write up a summary explaining how your program works"
      ],
      "metadata": {
        "id": "bHF2XiL6nGoZ"
      }
    },
    {
      "cell_type": "code",
      "execution_count": 2,
      "metadata": {
        "id": "RdjriZdxmwpV"
      },
      "outputs": [],
      "source": [
        "import tensorflow as tf\n",
        "from tensorflow import keras"
      ]
    },
    {
      "cell_type": "markdown",
      "source": [
        "Loading MNIST dataset"
      ],
      "metadata": {
        "id": "Tif8nPNKnmD0"
      }
    },
    {
      "cell_type": "code",
      "source": [
        "mnist=keras.datasets.mnist\n",
        "(X_Train, Y_Train), (X_Test, Y_Test)= mnist.load_data()"
      ],
      "metadata": {
        "id": "9KTbzV6GnZyw"
      },
      "execution_count": 29,
      "outputs": []
    },
    {
      "cell_type": "code",
      "source": [
        "print(X_Train.shape)\n",
        "print(Y_Train.shape)\n",
        "print(X_Test.shape)\n",
        "print(Y_Test.shape)"
      ],
      "metadata": {
        "colab": {
          "base_uri": "https://localhost:8080/"
        },
        "id": "9ifFZu44oH-h",
        "outputId": "435b5715-5336-4f49-f319-86129cd19715"
      },
      "execution_count": 30,
      "outputs": [
        {
          "output_type": "stream",
          "name": "stdout",
          "text": [
            "(60000, 28, 28)\n",
            "(60000,)\n",
            "(10000, 28, 28)\n",
            "(10000,)\n"
          ]
        }
      ]
    },
    {
      "cell_type": "code",
      "source": [
        "X_Train=(X_Train.astype('float32'))\n",
        "X_Test=(X_Test.astype('float32'))\n",
        "X_Train= X_Train.reshape(60000, 784)\n",
        "X_Test=X_Test.reshape(10000,784)"
      ],
      "metadata": {
        "id": "1E-pRHDqoPQV"
      },
      "execution_count": 31,
      "outputs": []
    },
    {
      "cell_type": "code",
      "source": [
        "X_Train.shape"
      ],
      "metadata": {
        "colab": {
          "base_uri": "https://localhost:8080/"
        },
        "id": "bKs9y55rvF6u",
        "outputId": "9e6964ba-8334-4653-dec1-b1cd2ebef7cf"
      },
      "execution_count": 34,
      "outputs": [
        {
          "output_type": "execute_result",
          "data": {
            "text/plain": [
              "(60000, 784)"
            ]
          },
          "metadata": {},
          "execution_count": 34
        }
      ]
    },
    {
      "cell_type": "code",
      "source": [
        "X_Train= X_Train/255\n",
        "X_Test=X_Test/255"
      ],
      "metadata": {
        "colab": {
          "base_uri": "https://localhost:8080/"
        },
        "id": "puyy2-3Sov-Z",
        "outputId": "50262fa3-27d4-47e1-f812-0041f3463d53"
      },
      "execution_count": 35,
      "outputs": [
        {
          "output_type": "execute_result",
          "data": {
            "text/plain": [
              "array([[0., 0., 0., ..., 0., 0., 0.],\n",
              "       [0., 0., 0., ..., 0., 0., 0.],\n",
              "       [0., 0., 0., ..., 0., 0., 0.],\n",
              "       ...,\n",
              "       [0., 0., 0., ..., 0., 0., 0.],\n",
              "       [0., 0., 0., ..., 0., 0., 0.],\n",
              "       [0., 0., 0., ..., 0., 0., 0.]], dtype=float32)"
            ]
          },
          "metadata": {},
          "execution_count": 35
        }
      ]
    },
    {
      "cell_type": "code",
      "source": [
        "Y_Train= tf.keras.utils.to_categorical(Y_Train)\n",
        "Y_Test= tf.keras.utils.to_categorical(Y_Test)"
      ],
      "metadata": {
        "id": "XgHeRdtJphyI"
      },
      "execution_count": 36,
      "outputs": []
    },
    {
      "cell_type": "code",
      "source": [
        "import tensorflow as tf\n",
        "from tensorflow import keras\n",
        "from keras import Sequential\n",
        "from keras.layers import Dense\n",
        "from keras.layers import Dropout"
      ],
      "metadata": {
        "id": "rlnknlTbto7j"
      },
      "execution_count": 65,
      "outputs": []
    },
    {
      "cell_type": "code",
      "source": [
        "model= keras.Sequential()\n",
        "model.add(Dense(200, input_shape= (784,), name='dense_layer', activation='relu'))\n",
        "model.add(Dropout(0.2))\n",
        "model.add(Dense(10, name='dense_layer1', activation='softmax'))"
      ],
      "metadata": {
        "id": "QzSeVz1NvdYZ"
      },
      "execution_count": 66,
      "outputs": []
    },
    {
      "cell_type": "code",
      "source": [
        "# Compiling the model.\n",
        "model.compile(optimizer='Adam', \n",
        "              loss='categorical_crossentropy',\n",
        "              metrics=['accuracy'])"
      ],
      "metadata": {
        "id": "abQKTjeKwsff"
      },
      "execution_count": 67,
      "outputs": []
    },
    {
      "cell_type": "code",
      "source": [
        "# Training the model. \n",
        "training = model.fit(X_Train, Y_Train, batch_size=32, epochs=40, validation_split=0.2) "
      ],
      "metadata": {
        "colab": {
          "base_uri": "https://localhost:8080/"
        },
        "id": "vxoM4M2sw6jm",
        "outputId": "9bf5344c-a0d0-4c10-920b-b7b3a4a9db90"
      },
      "execution_count": 68,
      "outputs": [
        {
          "output_type": "stream",
          "name": "stdout",
          "text": [
            "Epoch 1/40\n",
            "1500/1500 [==============================] - 6s 4ms/step - loss: 0.2918 - accuracy: 0.9151 - val_loss: 0.1416 - val_accuracy: 0.9599\n",
            "Epoch 2/40\n",
            "1500/1500 [==============================] - 5s 3ms/step - loss: 0.1343 - accuracy: 0.9601 - val_loss: 0.1023 - val_accuracy: 0.9693\n",
            "Epoch 3/40\n",
            "1500/1500 [==============================] - 5s 4ms/step - loss: 0.0964 - accuracy: 0.9710 - val_loss: 0.0941 - val_accuracy: 0.9732\n",
            "Epoch 4/40\n",
            "1500/1500 [==============================] - 6s 4ms/step - loss: 0.0771 - accuracy: 0.9759 - val_loss: 0.0825 - val_accuracy: 0.9748\n",
            "Epoch 5/40\n",
            "1500/1500 [==============================] - 5s 4ms/step - loss: 0.0632 - accuracy: 0.9798 - val_loss: 0.0847 - val_accuracy: 0.9745\n",
            "Epoch 6/40\n",
            "1500/1500 [==============================] - 5s 3ms/step - loss: 0.0543 - accuracy: 0.9823 - val_loss: 0.0857 - val_accuracy: 0.9760\n",
            "Epoch 7/40\n",
            "1500/1500 [==============================] - 5s 3ms/step - loss: 0.0450 - accuracy: 0.9859 - val_loss: 0.0809 - val_accuracy: 0.9760\n",
            "Epoch 8/40\n",
            "1500/1500 [==============================] - 5s 3ms/step - loss: 0.0398 - accuracy: 0.9872 - val_loss: 0.0894 - val_accuracy: 0.9746\n",
            "Epoch 9/40\n",
            "1500/1500 [==============================] - 5s 3ms/step - loss: 0.0378 - accuracy: 0.9876 - val_loss: 0.0819 - val_accuracy: 0.9772\n",
            "Epoch 10/40\n",
            "1500/1500 [==============================] - 5s 3ms/step - loss: 0.0329 - accuracy: 0.9886 - val_loss: 0.0850 - val_accuracy: 0.9779\n",
            "Epoch 11/40\n",
            "1500/1500 [==============================] - 5s 3ms/step - loss: 0.0280 - accuracy: 0.9904 - val_loss: 0.0847 - val_accuracy: 0.9781\n",
            "Epoch 12/40\n",
            "1500/1500 [==============================] - 5s 3ms/step - loss: 0.0269 - accuracy: 0.9912 - val_loss: 0.0869 - val_accuracy: 0.9782\n",
            "Epoch 13/40\n",
            "1500/1500 [==============================] - 5s 3ms/step - loss: 0.0247 - accuracy: 0.9912 - val_loss: 0.0911 - val_accuracy: 0.9773\n",
            "Epoch 14/40\n",
            "1500/1500 [==============================] - 5s 3ms/step - loss: 0.0236 - accuracy: 0.9920 - val_loss: 0.0938 - val_accuracy: 0.9772\n",
            "Epoch 15/40\n",
            "1500/1500 [==============================] - 5s 4ms/step - loss: 0.0209 - accuracy: 0.9928 - val_loss: 0.0844 - val_accuracy: 0.9788\n",
            "Epoch 16/40\n",
            "1500/1500 [==============================] - 5s 3ms/step - loss: 0.0220 - accuracy: 0.9925 - val_loss: 0.0850 - val_accuracy: 0.9800\n",
            "Epoch 17/40\n",
            "1500/1500 [==============================] - 5s 3ms/step - loss: 0.0191 - accuracy: 0.9937 - val_loss: 0.0980 - val_accuracy: 0.9796\n",
            "Epoch 18/40\n",
            "1500/1500 [==============================] - 5s 3ms/step - loss: 0.0201 - accuracy: 0.9930 - val_loss: 0.0896 - val_accuracy: 0.9808\n",
            "Epoch 19/40\n",
            "1500/1500 [==============================] - 5s 3ms/step - loss: 0.0186 - accuracy: 0.9935 - val_loss: 0.0965 - val_accuracy: 0.9796\n",
            "Epoch 20/40\n",
            "1500/1500 [==============================] - 5s 3ms/step - loss: 0.0178 - accuracy: 0.9937 - val_loss: 0.0992 - val_accuracy: 0.9801\n",
            "Epoch 21/40\n",
            "1500/1500 [==============================] - 5s 3ms/step - loss: 0.0160 - accuracy: 0.9943 - val_loss: 0.1064 - val_accuracy: 0.9803\n",
            "Epoch 22/40\n",
            "1500/1500 [==============================] - 5s 3ms/step - loss: 0.0164 - accuracy: 0.9943 - val_loss: 0.1038 - val_accuracy: 0.9803\n",
            "Epoch 23/40\n",
            "1500/1500 [==============================] - 5s 3ms/step - loss: 0.0161 - accuracy: 0.9944 - val_loss: 0.0994 - val_accuracy: 0.9811\n",
            "Epoch 24/40\n",
            "1500/1500 [==============================] - 5s 3ms/step - loss: 0.0159 - accuracy: 0.9949 - val_loss: 0.1048 - val_accuracy: 0.9783\n",
            "Epoch 25/40\n",
            "1500/1500 [==============================] - 5s 3ms/step - loss: 0.0158 - accuracy: 0.9946 - val_loss: 0.1039 - val_accuracy: 0.9797\n",
            "Epoch 26/40\n",
            "1500/1500 [==============================] - 5s 3ms/step - loss: 0.0134 - accuracy: 0.9954 - val_loss: 0.1098 - val_accuracy: 0.9794\n",
            "Epoch 27/40\n",
            "1500/1500 [==============================] - 5s 4ms/step - loss: 0.0146 - accuracy: 0.9953 - val_loss: 0.1119 - val_accuracy: 0.9783\n",
            "Epoch 28/40\n",
            "1500/1500 [==============================] - 5s 3ms/step - loss: 0.0124 - accuracy: 0.9958 - val_loss: 0.1150 - val_accuracy: 0.9788\n",
            "Epoch 29/40\n",
            "1500/1500 [==============================] - 5s 3ms/step - loss: 0.0131 - accuracy: 0.9956 - val_loss: 0.1094 - val_accuracy: 0.9812\n",
            "Epoch 30/40\n",
            "1500/1500 [==============================] - 5s 3ms/step - loss: 0.0122 - accuracy: 0.9960 - val_loss: 0.1146 - val_accuracy: 0.9806\n",
            "Epoch 31/40\n",
            "1500/1500 [==============================] - 5s 3ms/step - loss: 0.0132 - accuracy: 0.9954 - val_loss: 0.1157 - val_accuracy: 0.9798\n",
            "Epoch 32/40\n",
            "1500/1500 [==============================] - 5s 3ms/step - loss: 0.0118 - accuracy: 0.9960 - val_loss: 0.1137 - val_accuracy: 0.9793\n",
            "Epoch 33/40\n",
            "1500/1500 [==============================] - 5s 3ms/step - loss: 0.0134 - accuracy: 0.9953 - val_loss: 0.1193 - val_accuracy: 0.9784\n",
            "Epoch 34/40\n",
            "1500/1500 [==============================] - 5s 3ms/step - loss: 0.0099 - accuracy: 0.9964 - val_loss: 0.1227 - val_accuracy: 0.9793\n",
            "Epoch 35/40\n",
            "1500/1500 [==============================] - 5s 4ms/step - loss: 0.0121 - accuracy: 0.9959 - val_loss: 0.1171 - val_accuracy: 0.9792\n",
            "Epoch 36/40\n",
            "1500/1500 [==============================] - 5s 3ms/step - loss: 0.0129 - accuracy: 0.9955 - val_loss: 0.1213 - val_accuracy: 0.9812\n",
            "Epoch 37/40\n",
            "1500/1500 [==============================] - 5s 3ms/step - loss: 0.0113 - accuracy: 0.9962 - val_loss: 0.1246 - val_accuracy: 0.9798\n",
            "Epoch 38/40\n",
            "1500/1500 [==============================] - 5s 3ms/step - loss: 0.0113 - accuracy: 0.9956 - val_loss: 0.1240 - val_accuracy: 0.9796\n",
            "Epoch 39/40\n",
            "1500/1500 [==============================] - 5s 3ms/step - loss: 0.0104 - accuracy: 0.9966 - val_loss: 0.1160 - val_accuracy: 0.9807\n",
            "Epoch 40/40\n",
            "1500/1500 [==============================] - 5s 3ms/step - loss: 0.0126 - accuracy: 0.9956 - val_loss: 0.1225 - val_accuracy: 0.9814\n"
          ]
        }
      ]
    },
    {
      "cell_type": "code",
      "source": [
        "#evaluate the model\n",
        "test_loss, test_acc = model.evaluate(X_Test, Y_Test)\n",
        "print('Test accuracy:', test_acc)"
      ],
      "metadata": {
        "colab": {
          "base_uri": "https://localhost:8080/"
        },
        "id": "zZJPct08w9Hw",
        "outputId": "19349a4d-cfef-4f1b-c1bd-027a9604829e"
      },
      "execution_count": 69,
      "outputs": [
        {
          "output_type": "stream",
          "name": "stdout",
          "text": [
            "313/313 [==============================] - 1s 3ms/step - loss: 0.1234 - accuracy: 0.9803\n",
            "Test accuracy: 0.9803000092506409\n"
          ]
        }
      ]
    },
    {
      "cell_type": "code",
      "source": [
        "model.summary()"
      ],
      "metadata": {
        "colab": {
          "base_uri": "https://localhost:8080/"
        },
        "id": "swZ6UJU_xMFV",
        "outputId": "809aaab0-dc66-4377-b85b-f33fc2ff59aa"
      },
      "execution_count": 70,
      "outputs": [
        {
          "output_type": "stream",
          "name": "stdout",
          "text": [
            "Model: \"sequential_5\"\n",
            "_________________________________________________________________\n",
            " Layer (type)                Output Shape              Param #   \n",
            "=================================================================\n",
            " dense_layer (Dense)         (None, 200)               157000    \n",
            "                                                                 \n",
            " dropout (Dropout)           (None, 200)               0         \n",
            "                                                                 \n",
            " dense_layer1 (Dense)        (None, 10)                2010      \n",
            "                                                                 \n",
            "=================================================================\n",
            "Total params: 159,010\n",
            "Trainable params: 159,010\n",
            "Non-trainable params: 0\n",
            "_________________________________________________________________\n"
          ]
        }
      ]
    },
    {
      "cell_type": "markdown",
      "source": [
        "Adding hidden layer increases accuracy to 97 from 92 as it learns patterns in data to greater extend. By adding more neuron to hidden layer, further help in improving the accuracy to 98% but execution time increased. Epoch reduced from 70 to 40 so to reduce execution time without much compromising the accuracy. Batch size reduced from 64 to 32 which help to understand the pattern and slight increase in accuracy. With dropout layer accuracy improved and helps to avoid over-fitting of data. "
      ],
      "metadata": {
        "id": "178MfgSpJ4mq"
      }
    },
    {
      "cell_type": "code",
      "source": [
        ""
      ],
      "metadata": {
        "id": "uG8EnkTixlIy"
      },
      "execution_count": null,
      "outputs": []
    }
  ]
}