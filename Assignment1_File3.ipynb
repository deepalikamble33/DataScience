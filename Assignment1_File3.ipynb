{
  "nbformat": 4,
  "nbformat_minor": 0,
  "metadata": {
    "colab": {
      "name": "Assignment1_File3.ipynb",
      "provenance": [],
      "collapsed_sections": [],
      "toc_visible": true,
      "authorship_tag": "ABX9TyOc/re0OWDaxpU9d7AOoDOW",
      "include_colab_link": true
    },
    "kernelspec": {
      "name": "python3",
      "display_name": "Python 3"
    },
    "language_info": {
      "name": "python"
    }
  },
  "cells": [
    {
      "cell_type": "markdown",
      "metadata": {
        "id": "view-in-github",
        "colab_type": "text"
      },
      "source": [
        "<a href=\"https://colab.research.google.com/github/deepalikamble33/DataScience/blob/main/Assignment1_File3.ipynb\" target=\"_parent\"><img src=\"https://colab.research.google.com/assets/colab-badge.svg\" alt=\"Open In Colab\"/></a>"
      ]
    },
    {
      "cell_type": "markdown",
      "source": [
        "Prepare a detailed python notebook using multilayer perceptron for \n",
        "classifying the images from MNIST Fashion Dataset with the best accuracy"
      ],
      "metadata": {
        "id": "N36fsv8EZYpn"
      }
    },
    {
      "cell_type": "markdown",
      "source": [
        "# Prepare Dataset for the Model"
      ],
      "metadata": {
        "id": "FPd4uXbDZhyF"
      }
    },
    {
      "cell_type": "code",
      "source": [
        "import tensorflow as tf\n",
        "from tensorflow import keras"
      ],
      "metadata": {
        "id": "a-WAvFnNaRyc"
      },
      "execution_count": 41,
      "outputs": []
    },
    {
      "cell_type": "code",
      "source": [
        "mnistf=keras.datasets.fashion_mnist\n",
        "(x_train, y_train),(x_test, y_test)=mnistf.load_data()"
      ],
      "metadata": {
        "id": "t-mILoOIa53g"
      },
      "execution_count": 42,
      "outputs": []
    },
    {
      "cell_type": "code",
      "source": [
        "print(x_train.shape)\n",
        "print(y_train.shape)\n",
        "print(x_test.shape)\n",
        "print(y_test.shape)"
      ],
      "metadata": {
        "colab": {
          "base_uri": "https://localhost:8080/"
        },
        "id": "Tj_lAejPbhLL",
        "outputId": "e9dd9f05-9eab-41e1-c6e9-f37a483d5858"
      },
      "execution_count": 43,
      "outputs": [
        {
          "output_type": "stream",
          "name": "stdout",
          "text": [
            "(60000, 28, 28)\n",
            "(60000,)\n",
            "(10000, 28, 28)\n",
            "(10000,)\n"
          ]
        }
      ]
    },
    {
      "cell_type": "code",
      "source": [
        "x_train=x_train.astype('float32')\n",
        "x_test=x_test.astype('float32')\n",
        "x_train= x_train.reshape(60000,784)\n",
        "x_test= x_test.reshape(10000,784)"
      ],
      "metadata": {
        "id": "V8zNhCslcFPk"
      },
      "execution_count": 44,
      "outputs": []
    },
    {
      "cell_type": "code",
      "source": [
        "x_train=x_train.astype('float32')\n",
        "x_test=x_test.astype('float32')\n",
        "x_train=x_train/255\n",
        "x_test=x_test/255\n"
      ],
      "metadata": {
        "id": "_l127zJMcqXI"
      },
      "execution_count": 45,
      "outputs": []
    },
    {
      "cell_type": "code",
      "source": [
        "y_train = keras.utils.to_categorical(y_train,10)\n",
        "y_test= keras.utils.to_categorical(y_test,10)"
      ],
      "metadata": {
        "id": "DTnLS-fkfAz6"
      },
      "execution_count": 46,
      "outputs": []
    },
    {
      "cell_type": "markdown",
      "source": [
        "# Develop a Single Layer Perceptron model for classification"
      ],
      "metadata": {
        "id": "D2o-rFptZnGE"
      }
    },
    {
      "cell_type": "code",
      "source": [
        "from keras import Sequential\n",
        "from keras.layers import Dense"
      ],
      "metadata": {
        "id": "xzGs0X61fjaz"
      },
      "execution_count": 47,
      "outputs": []
    },
    {
      "cell_type": "code",
      "source": [
        "model_0= keras.Sequential()\n",
        "model_0.add(Dense(10,input_shape=(784,),name= 'dense_layer', activation = 'softmax'))"
      ],
      "metadata": {
        "id": "DmWEVBf7f2-v"
      },
      "execution_count": 48,
      "outputs": []
    },
    {
      "cell_type": "code",
      "source": [
        "model_0.compile(optimizer= 'Adam',\n",
        "                loss= 'categorical_crossentropy',\n",
        "                metrics= ['accuracy'])"
      ],
      "metadata": {
        "id": "MRISFKtAgiZJ"
      },
      "execution_count": 49,
      "outputs": []
    },
    {
      "cell_type": "code",
      "source": [
        "training= model_0.fit(x_train, y_train, batch_size= 32, epochs = 10, validation_split=.2)"
      ],
      "metadata": {
        "colab": {
          "base_uri": "https://localhost:8080/"
        },
        "id": "xCf2uasOhgY0",
        "outputId": "71e41211-5c87-4482-bdc0-9700ae6cdfb5"
      },
      "execution_count": 50,
      "outputs": [
        {
          "output_type": "stream",
          "name": "stdout",
          "text": [
            "Epoch 1/10\n",
            "1500/1500 [==============================] - 4s 2ms/step - loss: 0.6295 - accuracy: 0.7887 - val_loss: 0.4934 - val_accuracy: 0.8320\n",
            "Epoch 2/10\n",
            "1500/1500 [==============================] - 3s 2ms/step - loss: 0.4745 - accuracy: 0.8382 - val_loss: 0.4689 - val_accuracy: 0.8393\n",
            "Epoch 3/10\n",
            "1500/1500 [==============================] - 3s 2ms/step - loss: 0.4443 - accuracy: 0.8478 - val_loss: 0.4425 - val_accuracy: 0.8448\n",
            "Epoch 4/10\n",
            "1500/1500 [==============================] - 3s 2ms/step - loss: 0.4277 - accuracy: 0.8541 - val_loss: 0.4332 - val_accuracy: 0.8505\n",
            "Epoch 5/10\n",
            "1500/1500 [==============================] - 3s 2ms/step - loss: 0.4186 - accuracy: 0.8559 - val_loss: 0.4298 - val_accuracy: 0.8512\n",
            "Epoch 6/10\n",
            "1500/1500 [==============================] - 3s 2ms/step - loss: 0.4118 - accuracy: 0.8567 - val_loss: 0.4237 - val_accuracy: 0.8541\n",
            "Epoch 7/10\n",
            "1500/1500 [==============================] - 3s 2ms/step - loss: 0.4045 - accuracy: 0.8615 - val_loss: 0.4229 - val_accuracy: 0.8527\n",
            "Epoch 8/10\n",
            "1500/1500 [==============================] - 3s 2ms/step - loss: 0.4005 - accuracy: 0.8619 - val_loss: 0.4172 - val_accuracy: 0.8563\n",
            "Epoch 9/10\n",
            "1500/1500 [==============================] - 3s 2ms/step - loss: 0.3976 - accuracy: 0.8620 - val_loss: 0.4286 - val_accuracy: 0.8512\n",
            "Epoch 10/10\n",
            "1500/1500 [==============================] - 3s 2ms/step - loss: 0.3933 - accuracy: 0.8637 - val_loss: 0.4149 - val_accuracy: 0.8561\n"
          ]
        }
      ]
    },
    {
      "cell_type": "markdown",
      "source": [
        "#  Plot the change in accuracy per epochs "
      ],
      "metadata": {
        "id": "jSJufBKJZwtW"
      }
    },
    {
      "cell_type": "code",
      "source": [
        "import matplotlib.pyplot as plt\n",
        "plt.plot(training.history['accuracy'])\n",
        "plt.plot(training.history['val_accuracy'])\n",
        "plt.ylabel('accuracy')\n",
        "plt.xlabel('epoch')\n",
        "plt.legend(['train', 'test'], loc='upper left')\n",
        "plt.show()"
      ],
      "metadata": {
        "colab": {
          "base_uri": "https://localhost:8080/",
          "height": 278
        },
        "id": "DAdGycJHiXq6",
        "outputId": "864453c2-8d62-4e98-e560-b5ccc98bd93e"
      },
      "execution_count": 51,
      "outputs": [
        {
          "output_type": "display_data",
          "data": {
            "text/plain": [
              "<Figure size 432x288 with 1 Axes>"
            ],
            "image/png": "[encoded data removed]"
          },
          "metadata": {
            "needs_background": "light"
          }
        }
      ]
    },
    {
      "cell_type": "markdown",
      "source": [
        "#  Evaluate the model on the testing data"
      ],
      "metadata": {
        "id": "Et_xi54wZ0hE"
      }
    },
    {
      "cell_type": "code",
      "source": [
        "model_0.evaluate(x_test, y_test)"
      ],
      "metadata": {
        "colab": {
          "base_uri": "https://localhost:8080/"
        },
        "id": "rh07DlRxi7Fz",
        "outputId": "1cddb916-ed27-4332-8770-2b69b793c6d9"
      },
      "execution_count": 52,
      "outputs": [
        {
          "output_type": "stream",
          "name": "stdout",
          "text": [
            "313/313 [==============================] - 1s 2ms/step - loss: 0.4446 - accuracy: 0.8457\n"
          ]
        },
        {
          "output_type": "execute_result",
          "data": {
            "text/plain": [
              "[0.44455987215042114, 0.8457000255584717]"
            ]
          },
          "metadata": {},
          "execution_count": 52
        }
      ]
    },
    {
      "cell_type": "markdown",
      "source": [
        "#  Analyze the model summary\n"
      ],
      "metadata": {
        "id": "Ire3FGUlZ4R_"
      }
    },
    {
      "cell_type": "code",
      "source": [
        "model_0.summary()"
      ],
      "metadata": {
        "colab": {
          "base_uri": "https://localhost:8080/"
        },
        "id": "T9GjWeMXjPF3",
        "outputId": "a3b3f592-5548-4b9a-f464-6258ebed3f2c"
      },
      "execution_count": 53,
      "outputs": [
        {
          "output_type": "stream",
          "name": "stdout",
          "text": [
            "Model: \"sequential_5\"\n",
            "_________________________________________________________________\n",
            " Layer (type)                Output Shape              Param #   \n",
            "=================================================================\n",
            " dense_layer (Dense)         (None, 10)                7850      \n",
            "                                                                 \n",
            "=================================================================\n",
            "Total params: 7,850\n",
            "Trainable params: 7,850\n",
            "Non-trainable params: 0\n",
            "_________________________________________________________________\n"
          ]
        }
      ]
    },
    {
      "cell_type": "markdown",
      "source": [
        "# Add a hidden layer to the model to make it Multilayer Perceptron\n"
      ],
      "metadata": {
        "id": "znYts7ecZ7Wi"
      }
    },
    {
      "cell_type": "code",
      "source": [
        "model_1= keras.Sequential()\n",
        "model_1.add(Dense(300, input_shape=(784,), name='dense_layer1', activation='relu'))\n",
        "model_1.add(Dense(10, name= 'dense_layer2', activation='Softmax'))"
      ],
      "metadata": {
        "id": "V24P8FHVjUjr"
      },
      "execution_count": 58,
      "outputs": []
    },
    {
      "cell_type": "code",
      "source": [
        "model_1.compile(optimizer= 'Adam',\n",
        "                loss= 'categorical_crossentropy',\n",
        "                metrics=['accuracy'])"
      ],
      "metadata": {
        "id": "xcclMWIvlLUm"
      },
      "execution_count": 59,
      "outputs": []
    },
    {
      "cell_type": "code",
      "source": [
        "training= model_1.fit(x_train, y_train, batch_size= 32, epochs=10, validation_split=.2)"
      ],
      "metadata": {
        "colab": {
          "base_uri": "https://localhost:8080/"
        },
        "id": "vKZWH5ZflSFd",
        "outputId": "580044cb-be28-4370-fca4-038f2cdf1803"
      },
      "execution_count": 60,
      "outputs": [
        {
          "output_type": "stream",
          "name": "stdout",
          "text": [
            "Epoch 1/10\n",
            "1500/1500 [==============================] - 6s 4ms/step - loss: 0.4968 - accuracy: 0.8234 - val_loss: 0.4174 - val_accuracy: 0.8500\n",
            "Epoch 2/10\n",
            "1500/1500 [==============================] - 6s 4ms/step - loss: 0.3728 - accuracy: 0.8645 - val_loss: 0.3546 - val_accuracy: 0.8726\n",
            "Epoch 3/10\n",
            "1500/1500 [==============================] - 6s 4ms/step - loss: 0.3324 - accuracy: 0.8775 - val_loss: 0.3280 - val_accuracy: 0.8788\n",
            "Epoch 4/10\n",
            "1500/1500 [==============================] - 6s 4ms/step - loss: 0.3094 - accuracy: 0.8865 - val_loss: 0.3336 - val_accuracy: 0.8784\n",
            "Epoch 5/10\n",
            "1500/1500 [==============================] - 6s 4ms/step - loss: 0.2860 - accuracy: 0.8945 - val_loss: 0.3235 - val_accuracy: 0.8830\n",
            "Epoch 6/10\n",
            "1500/1500 [==============================] - 6s 4ms/step - loss: 0.2742 - accuracy: 0.8974 - val_loss: 0.3260 - val_accuracy: 0.8822\n",
            "Epoch 7/10\n",
            "1500/1500 [==============================] - 6s 4ms/step - loss: 0.2600 - accuracy: 0.9026 - val_loss: 0.3170 - val_accuracy: 0.8865\n",
            "Epoch 8/10\n",
            "1500/1500 [==============================] - 6s 4ms/step - loss: 0.2485 - accuracy: 0.9074 - val_loss: 0.3174 - val_accuracy: 0.8894\n",
            "Epoch 9/10\n",
            "1500/1500 [==============================] - 6s 4ms/step - loss: 0.2392 - accuracy: 0.9102 - val_loss: 0.3155 - val_accuracy: 0.8923\n",
            "Epoch 10/10\n",
            "1500/1500 [==============================] - 6s 4ms/step - loss: 0.2275 - accuracy: 0.9152 - val_loss: 0.3195 - val_accuracy: 0.8881\n"
          ]
        }
      ]
    },
    {
      "cell_type": "code",
      "source": [
        "import matplotlib.pyplot as plt\n",
        "plt.plot(training.history['accuracy'])\n",
        "plt.plot(training.history['val_accuracy'])\n",
        "plt.ylabel('accuracy')\n",
        "plt.xlabel('epoch')\n",
        "plt.show()"
      ],
      "metadata": {
        "colab": {
          "base_uri": "https://localhost:8080/",
          "height": 278
        },
        "id": "MTl7bKy2mGck",
        "outputId": "a7e68d4d-9231-487e-eee3-f7ce28b18d13"
      },
      "execution_count": 57,
      "outputs": [
        {
          "output_type": "display_data",
          "data": {
            "text/plain": [
              "<Figure size 432x288 with 1 Axes>"
            ],
            "image/png": "[encoded data removed]"
          },
          "metadata": {
            "needs_background": "light"
          }
        }
      ]
    },
    {
      "cell_type": "code",
      "source": [
        "model_1.evaluate(x_test,y_test)"
      ],
      "metadata": {
        "colab": {
          "base_uri": "https://localhost:8080/"
        },
        "id": "a5xXjfJpqheS",
        "outputId": "c20cec8f-a1cc-4fe4-c32c-8b358b0b5df2"
      },
      "execution_count": 61,
      "outputs": [
        {
          "output_type": "stream",
          "name": "stdout",
          "text": [
            "313/313 [==============================] - 1s 3ms/step - loss: 0.3449 - accuracy: 0.8814\n"
          ]
        },
        {
          "output_type": "execute_result",
          "data": {
            "text/plain": [
              "[0.3449333906173706, 0.8813999891281128]"
            ]
          },
          "metadata": {},
          "execution_count": 61
        }
      ]
    },
    {
      "cell_type": "code",
      "source": [
        "model_1.summary()"
      ],
      "metadata": {
        "colab": {
          "base_uri": "https://localhost:8080/"
        },
        "id": "k7FLm6HMq5Yx",
        "outputId": "305c30fe-1c8f-42ed-acf1-10639807ee1b"
      },
      "execution_count": 62,
      "outputs": [
        {
          "output_type": "stream",
          "name": "stdout",
          "text": [
            "Model: \"sequential_7\"\n",
            "_________________________________________________________________\n",
            " Layer (type)                Output Shape              Param #   \n",
            "=================================================================\n",
            " dense_layer1 (Dense)        (None, 300)               235500    \n",
            "                                                                 \n",
            " dense_layer2 (Dense)        (None, 10)                3010      \n",
            "                                                                 \n",
            "=================================================================\n",
            "Total params: 238,510\n",
            "Trainable params: 238,510\n",
            "Non-trainable params: 0\n",
            "_________________________________________________________________\n"
          ]
        }
      ]
    },
    {
      "cell_type": "markdown",
      "source": [
        "#  Add Dropout to prevent overfitting and check its effect on accuracy"
      ],
      "metadata": {
        "id": "52TyxoCQaAYV"
      }
    },
    {
      "cell_type": "code",
      "source": [
        "from keras.layers import Dropout\n",
        "model_1= keras.Sequential()\n",
        "model_1.add(Dense(300, input_shape=(784,), name='dense_layer1', activation='relu'))\n",
        "model_1.add(Dropout(0.4))\n",
        "model_1.add(Dense(10, name= 'dense_layer2', activation='Softmax'))"
      ],
      "metadata": {
        "id": "7xMDw1k4rP4d"
      },
      "execution_count": 63,
      "outputs": []
    },
    {
      "cell_type": "code",
      "source": [
        "model_1.compile(optimizer= 'Adam',\n",
        "                loss= 'categorical_crossentropy',\n",
        "                metrics=['accuracy'])"
      ],
      "metadata": {
        "id": "wCIym3n4rzJ6"
      },
      "execution_count": 64,
      "outputs": []
    },
    {
      "cell_type": "code",
      "source": [
        "training= model_1.fit(x_train, y_train, batch_size= 32, epochs=10, validation_split=.2)"
      ],
      "metadata": {
        "colab": {
          "base_uri": "https://localhost:8080/"
        },
        "id": "qRI0cd7Lr6d4",
        "outputId": "1b2b9e1c-dd8f-469e-f8c8-1d975e7676cf"
      },
      "execution_count": 65,
      "outputs": [
        {
          "output_type": "stream",
          "name": "stdout",
          "text": [
            "Epoch 1/10\n",
            "1500/1500 [==============================] - 7s 4ms/step - loss: 0.5652 - accuracy: 0.7973 - val_loss: 0.4261 - val_accuracy: 0.8433\n",
            "Epoch 2/10\n",
            "1500/1500 [==============================] - 6s 4ms/step - loss: 0.4298 - accuracy: 0.8425 - val_loss: 0.3821 - val_accuracy: 0.8603\n",
            "Epoch 3/10\n",
            "1500/1500 [==============================] - 6s 4ms/step - loss: 0.3949 - accuracy: 0.8546 - val_loss: 0.3556 - val_accuracy: 0.8694\n",
            "Epoch 4/10\n",
            "1500/1500 [==============================] - 7s 4ms/step - loss: 0.3789 - accuracy: 0.8611 - val_loss: 0.3512 - val_accuracy: 0.8742\n",
            "Epoch 5/10\n",
            "1500/1500 [==============================] - 6s 4ms/step - loss: 0.3586 - accuracy: 0.8681 - val_loss: 0.3465 - val_accuracy: 0.8758\n",
            "Epoch 6/10\n",
            "1500/1500 [==============================] - 6s 4ms/step - loss: 0.3490 - accuracy: 0.8717 - val_loss: 0.3322 - val_accuracy: 0.8793\n",
            "Epoch 7/10\n",
            "1500/1500 [==============================] - 7s 4ms/step - loss: 0.3356 - accuracy: 0.8750 - val_loss: 0.3258 - val_accuracy: 0.8813\n",
            "Epoch 8/10\n",
            "1500/1500 [==============================] - 6s 4ms/step - loss: 0.3266 - accuracy: 0.8788 - val_loss: 0.3280 - val_accuracy: 0.8811\n",
            "Epoch 9/10\n",
            "1500/1500 [==============================] - 6s 4ms/step - loss: 0.3201 - accuracy: 0.8814 - val_loss: 0.3501 - val_accuracy: 0.8731\n",
            "Epoch 10/10\n",
            "1500/1500 [==============================] - 6s 4ms/step - loss: 0.3119 - accuracy: 0.8852 - val_loss: 0.3347 - val_accuracy: 0.8822\n"
          ]
        }
      ]
    },
    {
      "cell_type": "code",
      "source": [
        "import matplotlib.pyplot as plt\n",
        "plt.plot(training.history['accuracy'])\n",
        "plt.plot(training.history['val_accuracy'])\n",
        "plt.ylabel('accuracy')\n",
        "plt.xlabel('epoch')\n",
        "plt.show()"
      ],
      "metadata": {
        "colab": {
          "base_uri": "https://localhost:8080/",
          "height": 278
        },
        "id": "y8B2JTSNsDya",
        "outputId": "c91cb503-9f6e-497e-c4ab-905cad26855a"
      },
      "execution_count": 66,
      "outputs": [
        {
          "output_type": "display_data",
          "data": {
            "text/plain": [
              "<Figure size 432x288 with 1 Axes>"
            ],
            "image/png": "[encoded data removed]"
          },
          "metadata": {
            "needs_background": "light"
          }
        }
      ]
    },
    {
      "cell_type": "code",
      "source": [
        "model_1.evaluate(x_test,y_test)"
      ],
      "metadata": {
        "colab": {
          "base_uri": "https://localhost:8080/"
        },
        "id": "oeK9D6CisJ5X",
        "outputId": "98ea2b34-3276-456f-8e86-231d90c31e7e"
      },
      "execution_count": 67,
      "outputs": [
        {
          "output_type": "stream",
          "name": "stdout",
          "text": [
            "313/313 [==============================] - 1s 3ms/step - loss: 0.3615 - accuracy: 0.8742\n"
          ]
        },
        {
          "output_type": "execute_result",
          "data": {
            "text/plain": [
              "[0.36152681708335876, 0.8741999864578247]"
            ]
          },
          "metadata": {},
          "execution_count": 67
        }
      ]
    },
    {
      "cell_type": "code",
      "source": [
        "model_1.summary()"
      ],
      "metadata": {
        "colab": {
          "base_uri": "https://localhost:8080/"
        },
        "id": "CwV5DayhsTze",
        "outputId": "f7ec71a8-c644-4ed3-f689-3ac9432779bb"
      },
      "execution_count": 68,
      "outputs": [
        {
          "output_type": "stream",
          "name": "stdout",
          "text": [
            "Model: \"sequential_8\"\n",
            "_________________________________________________________________\n",
            " Layer (type)                Output Shape              Param #   \n",
            "=================================================================\n",
            " dense_layer1 (Dense)        (None, 300)               235500    \n",
            "                                                                 \n",
            " dropout (Dropout)           (None, 300)               0         \n",
            "                                                                 \n",
            " dense_layer2 (Dense)        (None, 10)                3010      \n",
            "                                                                 \n",
            "=================================================================\n",
            "Total params: 238,510\n",
            "Trainable params: 238,510\n",
            "Non-trainable params: 0\n",
            "_________________________________________________________________\n"
          ]
        }
      ]
    },
    {
      "cell_type": "markdown",
      "source": [
        "#  Increase the number of hidden layer neuron and check its accuracy"
      ],
      "metadata": {
        "id": "0IRgMGw3aDht"
      }
    },
    {
      "cell_type": "code",
      "source": [
        "from keras.layers import Dropout\n",
        "model_1= keras.Sequential()\n",
        "model_1.add(Dense(500, input_shape=(784,), name='dense_layer1', activation='relu'))\n",
        "model_1.add(Dropout(0.4))\n",
        "model_1.add(Dense(10, name= 'dense_layer2', activation='Softmax'))\n",
        "\n",
        "model_1.compile(optimizer= 'Adam',\n",
        "                loss= 'categorical_crossentropy',\n",
        "                metrics=['accuracy'])\n",
        "\n",
        "training= model_1.fit(x_train, y_train, batch_size= 32, epochs=10, validation_split=.2)"
      ],
      "metadata": {
        "colab": {
          "base_uri": "https://localhost:8080/"
        },
        "id": "h-PLlSMBs1Td",
        "outputId": "ea0500e3-dd40-4ca0-be1f-46779cd08d91"
      },
      "execution_count": 69,
      "outputs": [
        {
          "output_type": "stream",
          "name": "stdout",
          "text": [
            "1500/1500 [==============================] - 9s 6ms/step - loss: 0.5526 - accuracy: 0.8014 - val_loss: 0.4146 - val_accuracy: 0.8529\n",
            "Epoch 2/10\n",
            "1500/1500 [==============================] - 9s 6ms/step - loss: 0.4232 - accuracy: 0.8457 - val_loss: 0.3806 - val_accuracy: 0.8578\n",
            "Epoch 3/10\n",
            "1500/1500 [==============================] - 9s 6ms/step - loss: 0.3905 - accuracy: 0.8561 - val_loss: 0.3582 - val_accuracy: 0.8673\n",
            "Epoch 4/10\n",
            "1500/1500 [==============================] - 9s 6ms/step - loss: 0.3674 - accuracy: 0.8640 - val_loss: 0.3546 - val_accuracy: 0.8733\n",
            "Epoch 5/10\n",
            "1500/1500 [==============================] - 9s 6ms/step - loss: 0.3556 - accuracy: 0.8687 - val_loss: 0.3325 - val_accuracy: 0.8802\n",
            "Epoch 6/10\n",
            "1500/1500 [==============================] - 9s 6ms/step - loss: 0.3393 - accuracy: 0.8742 - val_loss: 0.3253 - val_accuracy: 0.8848\n",
            "Epoch 7/10\n",
            "1500/1500 [==============================] - 8s 5ms/step - loss: 0.3307 - accuracy: 0.8764 - val_loss: 0.3323 - val_accuracy: 0.8792\n",
            "Epoch 8/10\n",
            "1500/1500 [==============================] - 9s 6ms/step - loss: 0.3211 - accuracy: 0.8803 - val_loss: 0.3441 - val_accuracy: 0.8771\n",
            "Epoch 9/10\n",
            "1500/1500 [==============================] - 9s 6ms/step - loss: 0.3132 - accuracy: 0.8844 - val_loss: 0.3430 - val_accuracy: 0.8798\n",
            "Epoch 10/10\n",
            "1500/1500 [==============================] - 8s 6ms/step - loss: 0.3074 - accuracy: 0.8856 - val_loss: 0.3253 - val_accuracy: 0.8851\n"
          ]
        }
      ]
    },
    {
      "cell_type": "code",
      "source": [
        "import matplotlib.pyplot as plt\n",
        "plt.plot(training.history['accuracy'])\n",
        "plt.plot(training.history['val_accuracy'])\n",
        "plt.ylabel('accuracy')\n",
        "plt.xlabel('epoch')\n",
        "plt.show()"
      ],
      "metadata": {
        "colab": {
          "base_uri": "https://localhost:8080/",
          "height": 278
        },
        "id": "BhTt0NW4s_Jv",
        "outputId": "ab308ec7-7f32-4719-cdaa-54d7024cc69d"
      },
      "execution_count": 70,
      "outputs": [
        {
          "output_type": "display_data",
          "data": {
            "text/plain": [
              "<Figure size 432x288 with 1 Axes>"
            ],
            "image/png": "[encoded data removed]"
          },
          "metadata": {
            "needs_background": "light"
          }
        }
      ]
    },
    {
      "cell_type": "code",
      "source": [
        "model_1.evaluate(x_test,y_test)"
      ],
      "metadata": {
        "colab": {
          "base_uri": "https://localhost:8080/"
        },
        "id": "nY_xzQsQtBkn",
        "outputId": "fd433d9c-1f41-44c3-a330-4a87eb56c409"
      },
      "execution_count": 71,
      "outputs": [
        {
          "output_type": "stream",
          "name": "stdout",
          "text": [
            "313/313 [==============================] - 1s 4ms/step - loss: 0.3497 - accuracy: 0.8787\n"
          ]
        },
        {
          "output_type": "execute_result",
          "data": {
            "text/plain": [
              "[0.3496970534324646, 0.8787000179290771]"
            ]
          },
          "metadata": {},
          "execution_count": 71
        }
      ]
    },
    {
      "cell_type": "code",
      "source": [
        "model_1.summary()"
      ],
      "metadata": {
        "colab": {
          "base_uri": "https://localhost:8080/"
        },
        "id": "RiKwfQlEtDmR",
        "outputId": "c0dc9168-385b-4a8e-b63d-cb1adbbd4676"
      },
      "execution_count": 72,
      "outputs": [
        {
          "output_type": "stream",
          "name": "stdout",
          "text": [
            "Model: \"sequential_9\"\n",
            "_________________________________________________________________\n",
            " Layer (type)                Output Shape              Param #   \n",
            "=================================================================\n",
            " dense_layer1 (Dense)        (None, 500)               392500    \n",
            "                                                                 \n",
            " dropout_1 (Dropout)         (None, 500)               0         \n",
            "                                                                 \n",
            " dense_layer2 (Dense)        (None, 10)                5010      \n",
            "                                                                 \n",
            "=================================================================\n",
            "Total params: 397,510\n",
            "Trainable params: 397,510\n",
            "Non-trainable params: 0\n",
            "_________________________________________________________________\n"
          ]
        }
      ]
    },
    {
      "cell_type": "markdown",
      "source": [
        "#  Use different optimizers and check its effect on accuracy"
      ],
      "metadata": {
        "id": "e3Usd6jtaF5b"
      }
    },
    {
      "cell_type": "code",
      "source": [
        "from keras.layers import Dropout\n",
        "model_1= keras.Sequential()\n",
        "model_1.add(Dense(500, input_shape=(784,), name='dense_layer1', activation='relu'))\n",
        "model_1.add(Dropout(0.4))\n",
        "model_1.add(Dense(10, name= 'dense_layer2', activation='Softmax'))\n",
        "\n",
        "model_1.compile(optimizer= 'SGD',\n",
        "                loss= 'categorical_crossentropy',\n",
        "                metrics=['accuracy'])\n",
        "\n",
        "training= model_1.fit(x_train, y_train, batch_size= 32, epochs=10, validation_split=.2)"
      ],
      "metadata": {
        "colab": {
          "base_uri": "https://localhost:8080/"
        },
        "id": "RD1QcF4QtP6Y",
        "outputId": "d7ddbf64-ab04-4f8a-f235-591a8d0a014a"
      },
      "execution_count": 73,
      "outputs": [
        {
          "output_type": "stream",
          "name": "stdout",
          "text": [
            "Epoch 1/10\n",
            "1500/1500 [==============================] - 10s 6ms/step - loss: 0.8134 - accuracy: 0.7322 - val_loss: 0.5715 - val_accuracy: 0.8093\n",
            "Epoch 2/10\n",
            "1500/1500 [==============================] - 9s 6ms/step - loss: 0.5713 - accuracy: 0.8069 - val_loss: 0.5028 - val_accuracy: 0.8304\n",
            "Epoch 3/10\n",
            "1500/1500 [==============================] - 9s 6ms/step - loss: 0.5137 - accuracy: 0.8234 - val_loss: 0.4732 - val_accuracy: 0.8330\n",
            "Epoch 4/10\n",
            "1500/1500 [==============================] - 9s 6ms/step - loss: 0.4802 - accuracy: 0.8342 - val_loss: 0.4485 - val_accuracy: 0.8443\n",
            "Epoch 5/10\n",
            "1500/1500 [==============================] - 9s 6ms/step - loss: 0.4568 - accuracy: 0.8415 - val_loss: 0.4298 - val_accuracy: 0.8503\n",
            "Epoch 6/10\n",
            "1500/1500 [==============================] - 9s 6ms/step - loss: 0.4387 - accuracy: 0.8483 - val_loss: 0.4172 - val_accuracy: 0.8533\n",
            "Epoch 7/10\n",
            "1500/1500 [==============================] - 9s 6ms/step - loss: 0.4250 - accuracy: 0.8527 - val_loss: 0.4102 - val_accuracy: 0.8558\n",
            "Epoch 8/10\n",
            "1500/1500 [==============================] - 9s 6ms/step - loss: 0.4142 - accuracy: 0.8553 - val_loss: 0.3967 - val_accuracy: 0.8611\n",
            "Epoch 9/10\n",
            "1500/1500 [==============================] - 9s 6ms/step - loss: 0.4023 - accuracy: 0.8580 - val_loss: 0.3909 - val_accuracy: 0.8637\n",
            "Epoch 10/10\n",
            "1500/1500 [==============================] - 8s 6ms/step - loss: 0.3933 - accuracy: 0.8619 - val_loss: 0.3836 - val_accuracy: 0.8639\n"
          ]
        }
      ]
    },
    {
      "cell_type": "code",
      "source": [
        "import matplotlib.pyplot as plt\n",
        "plt.plot(training.history['accuracy'])\n",
        "plt.plot(training.history['val_accuracy'])\n",
        "plt.ylabel('accuracy')\n",
        "plt.xlabel('epoch')\n",
        "plt.show()"
      ],
      "metadata": {
        "colab": {
          "base_uri": "https://localhost:8080/",
          "height": 278
        },
        "id": "lWbJBdeOtP6e",
        "outputId": "7d3ab023-5335-4775-996f-73ee261decc7"
      },
      "execution_count": 74,
      "outputs": [
        {
          "output_type": "display_data",
          "data": {
            "text/plain": [
              "<Figure size 432x288 with 1 Axes>"
            ],
            "image/png": "[encoded data removed]"
          },
          "metadata": {
            "needs_background": "light"
          }
        }
      ]
    },
    {
      "cell_type": "code",
      "source": [
        "model_1.evaluate(x_test,y_test)"
      ],
      "metadata": {
        "colab": {
          "base_uri": "https://localhost:8080/"
        },
        "id": "Guv2sO4CtP6f",
        "outputId": "c6d780ce-2480-4341-f1b4-74dc2d9a3b00"
      },
      "execution_count": 75,
      "outputs": [
        {
          "output_type": "stream",
          "name": "stdout",
          "text": [
            "313/313 [==============================] - 1s 4ms/step - loss: 0.4074 - accuracy: 0.8545\n"
          ]
        },
        {
          "output_type": "execute_result",
          "data": {
            "text/plain": [
              "[0.40738755464553833, 0.8544999957084656]"
            ]
          },
          "metadata": {},
          "execution_count": 75
        }
      ]
    },
    {
      "cell_type": "code",
      "source": [
        "model_1.summary()"
      ],
      "metadata": {
        "colab": {
          "base_uri": "https://localhost:8080/"
        },
        "id": "KHqnyHWktP6f",
        "outputId": "78fd1089-d2a2-4e8e-fec3-7d0d9594ebe8"
      },
      "execution_count": 76,
      "outputs": [
        {
          "output_type": "stream",
          "name": "stdout",
          "text": [
            "Model: \"sequential_10\"\n",
            "_________________________________________________________________\n",
            " Layer (type)                Output Shape              Param #   \n",
            "=================================================================\n",
            " dense_layer1 (Dense)        (None, 500)               392500    \n",
            "                                                                 \n",
            " dropout_2 (Dropout)         (None, 500)               0         \n",
            "                                                                 \n",
            " dense_layer2 (Dense)        (None, 10)                5010      \n",
            "                                                                 \n",
            "=================================================================\n",
            "Total params: 397,510\n",
            "Trainable params: 397,510\n",
            "Non-trainable params: 0\n",
            "_________________________________________________________________\n"
          ]
        }
      ]
    },
    {
      "cell_type": "markdown",
      "source": [
        "#  Increase the hidden layers and check its effect on accuracy"
      ],
      "metadata": {
        "id": "51ETnImGaJMv"
      }
    },
    {
      "cell_type": "code",
      "source": [
        "from keras.layers import Dropout\n",
        "model_1= keras.Sequential()\n",
        "model_1.add(Dense(500, input_shape=(784,), name='dense_layer1', activation='relu'))\n",
        "model_1.add(Dense(100, input_shape=(784,), name='dense_layer2', activation='relu'))\n",
        "model_1.add(Dropout(0.4))\n",
        "model_1.add(Dense(10, name= 'dense_layer3', activation='Softmax'))\n",
        "\n",
        "model_1.compile(optimizer= 'SGD',\n",
        "                loss= 'categorical_crossentropy',\n",
        "                metrics=['accuracy'])\n",
        "\n",
        "training= model_1.fit(x_train, y_train, batch_size= 32, epochs=10, validation_split=.2)"
      ],
      "metadata": {
        "colab": {
          "base_uri": "https://localhost:8080/"
        },
        "id": "9m9nlOsXtXBE",
        "outputId": "7d182e69-2c62-41a4-9fe0-d0acdd8f9f64"
      },
      "execution_count": 77,
      "outputs": [
        {
          "output_type": "stream",
          "name": "stdout",
          "text": [
            "Epoch 1/10\n",
            "1500/1500 [==============================] - 10s 6ms/step - loss: 0.8693 - accuracy: 0.7093 - val_loss: 0.5532 - val_accuracy: 0.8134\n",
            "Epoch 2/10\n",
            "1500/1500 [==============================] - 9s 6ms/step - loss: 0.5749 - accuracy: 0.8058 - val_loss: 0.4714 - val_accuracy: 0.8360\n",
            "Epoch 3/10\n",
            "1500/1500 [==============================] - 8s 5ms/step - loss: 0.5094 - accuracy: 0.8275 - val_loss: 0.4342 - val_accuracy: 0.8472\n",
            "Epoch 4/10\n",
            "1500/1500 [==============================] - 8s 6ms/step - loss: 0.4721 - accuracy: 0.8367 - val_loss: 0.4124 - val_accuracy: 0.8529\n",
            "Epoch 5/10\n",
            "1500/1500 [==============================] - 8s 6ms/step - loss: 0.4452 - accuracy: 0.8432 - val_loss: 0.4044 - val_accuracy: 0.8558\n",
            "Epoch 6/10\n",
            "1500/1500 [==============================] - 8s 6ms/step - loss: 0.4272 - accuracy: 0.8501 - val_loss: 0.3866 - val_accuracy: 0.8610\n",
            "Epoch 7/10\n",
            "1500/1500 [==============================] - 8s 5ms/step - loss: 0.4116 - accuracy: 0.8564 - val_loss: 0.3883 - val_accuracy: 0.8583\n",
            "Epoch 8/10\n",
            "1500/1500 [==============================] - 8s 5ms/step - loss: 0.4022 - accuracy: 0.8582 - val_loss: 0.3785 - val_accuracy: 0.8642\n",
            "Epoch 9/10\n",
            "1500/1500 [==============================] - 9s 6ms/step - loss: 0.3905 - accuracy: 0.8625 - val_loss: 0.3774 - val_accuracy: 0.8634\n",
            "Epoch 10/10\n",
            "1500/1500 [==============================] - 9s 6ms/step - loss: 0.3819 - accuracy: 0.8645 - val_loss: 0.3733 - val_accuracy: 0.8677\n"
          ]
        }
      ]
    },
    {
      "cell_type": "code",
      "source": [
        "import matplotlib.pyplot as plt\n",
        "plt.plot(training.history['accuracy'])\n",
        "plt.plot(training.history['val_accuracy'])\n",
        "plt.ylabel('accuracy')\n",
        "plt.xlabel('epoch')\n",
        "plt.show()"
      ],
      "metadata": {
        "colab": {
          "base_uri": "https://localhost:8080/",
          "height": 278
        },
        "id": "N5Nj6gPktXBF",
        "outputId": "be756316-8af3-425d-849b-2cfdeba9b91d"
      },
      "execution_count": 78,
      "outputs": [
        {
          "output_type": "display_data",
          "data": {
            "text/plain": [
              "<Figure size 432x288 with 1 Axes>"
            ],
            "image/png": "[encoded data removed]"
          },
          "metadata": {
            "needs_background": "light"
          }
        }
      ]
    },
    {
      "cell_type": "code",
      "source": [
        "model_1.evaluate(x_test,y_test)"
      ],
      "metadata": {
        "colab": {
          "base_uri": "https://localhost:8080/"
        },
        "id": "Xjgr50eEtXBG",
        "outputId": "a48831b8-c028-4a46-9b4a-8f465dd3d072"
      },
      "execution_count": 79,
      "outputs": [
        {
          "output_type": "stream",
          "name": "stdout",
          "text": [
            "313/313 [==============================] - 1s 4ms/step - loss: 0.4000 - accuracy: 0.8559\n"
          ]
        },
        {
          "output_type": "execute_result",
          "data": {
            "text/plain": [
              "[0.3999907374382019, 0.85589998960495]"
            ]
          },
          "metadata": {},
          "execution_count": 79
        }
      ]
    },
    {
      "cell_type": "code",
      "source": [
        "model_1.summary()"
      ],
      "metadata": {
        "colab": {
          "base_uri": "https://localhost:8080/"
        },
        "id": "P7y_iIsztXBH",
        "outputId": "7dd993e6-39ca-454a-b06a-3828ec99ce72"
      },
      "execution_count": 80,
      "outputs": [
        {
          "output_type": "stream",
          "name": "stdout",
          "text": [
            "Model: \"sequential_11\"\n",
            "_________________________________________________________________\n",
            " Layer (type)                Output Shape              Param #   \n",
            "=================================================================\n",
            " dense_layer1 (Dense)        (None, 500)               392500    \n",
            "                                                                 \n",
            " dense_layer2 (Dense)        (None, 100)               50100     \n",
            "                                                                 \n",
            " dropout_3 (Dropout)         (None, 100)               0         \n",
            "                                                                 \n",
            " dense_layer3 (Dense)        (None, 10)                1010      \n",
            "                                                                 \n",
            "=================================================================\n",
            "Total params: 443,610\n",
            "Trainable params: 443,610\n",
            "Non-trainable params: 0\n",
            "_________________________________________________________________\n"
          ]
        }
      ]
    },
    {
      "cell_type": "markdown",
      "source": [
        "#  Manipulate the batch_size and epochs and check its effect on accuracy"
      ],
      "metadata": {
        "id": "8NuNH2HXaLrH"
      }
    },
    {
      "cell_type": "code",
      "source": [
        "from keras.layers import Dropout\n",
        "model_1= keras.Sequential()\n",
        "model_1.add(Dense(500, input_shape=(784,), name='dense_layer1', activation='relu'))\n",
        "model_1.add(Dense(100, input_shape=(784,), name='dense_layer2', activation='relu'))\n",
        "model_1.add(Dropout(0.4))\n",
        "model_1.add(Dense(10, name= 'dense_layer3', activation='Softmax'))\n",
        "\n",
        "model_1.compile(optimizer= 'SGD',\n",
        "                loss= 'categorical_crossentropy',\n",
        "                metrics=['accuracy'])\n",
        "\n",
        "training= model_1.fit(x_train, y_train, batch_size= 64, epochs=10, validation_split=.2)"
      ],
      "metadata": {
        "colab": {
          "base_uri": "https://localhost:8080/"
        },
        "id": "24O-By-stgko",
        "outputId": "ffe978e0-70ce-40b1-af36-64d13a13049c"
      },
      "execution_count": 81,
      "outputs": [
        {
          "output_type": "stream",
          "name": "stdout",
          "text": [
            "Epoch 1/10\n",
            "750/750 [==============================] - 6s 7ms/step - loss: 1.0157 - accuracy: 0.6714 - val_loss: 0.6217 - val_accuracy: 0.7976\n",
            "Epoch 2/10\n",
            "750/750 [==============================] - 5s 7ms/step - loss: 0.6488 - accuracy: 0.7855 - val_loss: 0.5339 - val_accuracy: 0.8202\n",
            "Epoch 3/10\n",
            "750/750 [==============================] - 5s 7ms/step - loss: 0.5701 - accuracy: 0.8089 - val_loss: 0.4956 - val_accuracy: 0.8267\n",
            "Epoch 4/10\n",
            "750/750 [==============================] - 5s 7ms/step - loss: 0.5247 - accuracy: 0.8230 - val_loss: 0.4610 - val_accuracy: 0.8392\n",
            "Epoch 5/10\n",
            "750/750 [==============================] - 5s 7ms/step - loss: 0.4979 - accuracy: 0.8311 - val_loss: 0.4447 - val_accuracy: 0.8421\n",
            "Epoch 6/10\n",
            "750/750 [==============================] - 5s 7ms/step - loss: 0.4767 - accuracy: 0.8378 - val_loss: 0.4273 - val_accuracy: 0.8483\n",
            "Epoch 7/10\n",
            "750/750 [==============================] - 5s 7ms/step - loss: 0.4599 - accuracy: 0.8429 - val_loss: 0.4165 - val_accuracy: 0.8533\n",
            "Epoch 8/10\n",
            "750/750 [==============================] - 5s 7ms/step - loss: 0.4450 - accuracy: 0.8466 - val_loss: 0.4080 - val_accuracy: 0.8553\n",
            "Epoch 9/10\n",
            "750/750 [==============================] - 5s 7ms/step - loss: 0.4352 - accuracy: 0.8485 - val_loss: 0.4010 - val_accuracy: 0.8534\n",
            "Epoch 10/10\n",
            "750/750 [==============================] - 5s 7ms/step - loss: 0.4286 - accuracy: 0.8513 - val_loss: 0.3976 - val_accuracy: 0.8591\n"
          ]
        }
      ]
    },
    {
      "cell_type": "code",
      "source": [
        "import matplotlib.pyplot as plt\n",
        "plt.plot(training.history['accuracy'])\n",
        "plt.plot(training.history['val_accuracy'])\n",
        "plt.ylabel('accuracy')\n",
        "plt.xlabel('epoch')\n",
        "plt.show()"
      ],
      "metadata": {
        "colab": {
          "base_uri": "https://localhost:8080/",
          "height": 278
        },
        "id": "US6hjifvtgkq",
        "outputId": "b5b93b4c-bf37-40db-b449-ca1e61ee35e6"
      },
      "execution_count": 82,
      "outputs": [
        {
          "output_type": "display_data",
          "data": {
            "text/plain": [
              "<Figure size 432x288 with 1 Axes>"
            ],
            "image/png": "[encoded data removed]"
          },
          "metadata": {
            "needs_background": "light"
          }
        }
      ]
    },
    {
      "cell_type": "code",
      "source": [
        "model_1.evaluate(x_test,y_test)"
      ],
      "metadata": {
        "colab": {
          "base_uri": "https://localhost:8080/"
        },
        "id": "m8NAMwdNtgkq",
        "outputId": "6e9be7d4-9530-4875-9d91-d6d7a2b47511"
      },
      "execution_count": 83,
      "outputs": [
        {
          "output_type": "stream",
          "name": "stdout",
          "text": [
            "313/313 [==============================] - 1s 3ms/step - loss: 0.4181 - accuracy: 0.8503\n"
          ]
        },
        {
          "output_type": "execute_result",
          "data": {
            "text/plain": [
              "[0.4180617332458496, 0.8503000140190125]"
            ]
          },
          "metadata": {},
          "execution_count": 83
        }
      ]
    },
    {
      "cell_type": "code",
      "source": [
        "model_1.summary()"
      ],
      "metadata": {
        "colab": {
          "base_uri": "https://localhost:8080/"
        },
        "id": "BQUuMoWZtgkr",
        "outputId": "da48a57f-2f71-4589-d45a-a00a2bbd194f"
      },
      "execution_count": 84,
      "outputs": [
        {
          "output_type": "stream",
          "name": "stdout",
          "text": [
            "Model: \"sequential_12\"\n",
            "_________________________________________________________________\n",
            " Layer (type)                Output Shape              Param #   \n",
            "=================================================================\n",
            " dense_layer1 (Dense)        (None, 500)               392500    \n",
            "                                                                 \n",
            " dense_layer2 (Dense)        (None, 100)               50100     \n",
            "                                                                 \n",
            " dropout_4 (Dropout)         (None, 100)               0         \n",
            "                                                                 \n",
            " dense_layer3 (Dense)        (None, 10)                1010      \n",
            "                                                                 \n",
            "=================================================================\n",
            "Total params: 443,610\n",
            "Trainable params: 443,610\n",
            "Non-trainable params: 0\n",
            "_________________________________________________________________\n"
          ]
        }
      ]
    },
    {
      "cell_type": "code",
      "source": [
        "from keras.layers import Dropout\n",
        "model_1= keras.Sequential()\n",
        "model_1.add(Dense(500, input_shape=(784,), name='dense_layer1', activation='relu'))\n",
        "model_1.add(Dense(100, input_shape=(784,), name='dense_layer2', activation='relu'))\n",
        "model_1.add(Dropout(0.4))\n",
        "model_1.add(Dense(10, name= 'dense_layer3', activation='Softmax'))\n",
        "\n",
        "model_1.compile(optimizer= 'SGD',\n",
        "                loss= 'categorical_crossentropy',\n",
        "                metrics=['accuracy'])\n",
        "\n",
        "training= model_1.fit(x_train, y_train, batch_size= 64, epochs=15, validation_split=.2)"
      ],
      "metadata": {
        "colab": {
          "base_uri": "https://localhost:8080/"
        },
        "id": "Nxn1Bw-bto0C",
        "outputId": "8984ccbf-e672-4d86-b048-3e06ecee3070"
      },
      "execution_count": 85,
      "outputs": [
        {
          "output_type": "stream",
          "name": "stdout",
          "text": [
            "Epoch 1/15\n",
            "750/750 [==============================] - 6s 8ms/step - loss: 1.0165 - accuracy: 0.6648 - val_loss: 0.6378 - val_accuracy: 0.7918\n",
            "Epoch 2/15\n",
            "750/750 [==============================] - 5s 7ms/step - loss: 0.6650 - accuracy: 0.7777 - val_loss: 0.5436 - val_accuracy: 0.8167\n",
            "Epoch 3/15\n",
            "750/750 [==============================] - 5s 7ms/step - loss: 0.5826 - accuracy: 0.8048 - val_loss: 0.4983 - val_accuracy: 0.8295\n",
            "Epoch 4/15\n",
            "750/750 [==============================] - 5s 7ms/step - loss: 0.5357 - accuracy: 0.8172 - val_loss: 0.4658 - val_accuracy: 0.8376\n",
            "Epoch 5/15\n",
            "750/750 [==============================] - 5s 7ms/step - loss: 0.5061 - accuracy: 0.8284 - val_loss: 0.4465 - val_accuracy: 0.8387\n",
            "Epoch 6/15\n",
            "750/750 [==============================] - 5s 7ms/step - loss: 0.4862 - accuracy: 0.8337 - val_loss: 0.4431 - val_accuracy: 0.8373\n",
            "Epoch 7/15\n",
            "750/750 [==============================] - 5s 7ms/step - loss: 0.4658 - accuracy: 0.8405 - val_loss: 0.4191 - val_accuracy: 0.8505\n",
            "Epoch 8/15\n",
            "750/750 [==============================] - 5s 7ms/step - loss: 0.4530 - accuracy: 0.8445 - val_loss: 0.4086 - val_accuracy: 0.8527\n",
            "Epoch 9/15\n",
            "750/750 [==============================] - 5s 7ms/step - loss: 0.4434 - accuracy: 0.8471 - val_loss: 0.4055 - val_accuracy: 0.8543\n",
            "Epoch 10/15\n",
            "750/750 [==============================] - 5s 7ms/step - loss: 0.4296 - accuracy: 0.8500 - val_loss: 0.4000 - val_accuracy: 0.8583\n",
            "Epoch 11/15\n",
            "750/750 [==============================] - 5s 7ms/step - loss: 0.4194 - accuracy: 0.8552 - val_loss: 0.3889 - val_accuracy: 0.8595\n",
            "Epoch 12/15\n",
            "750/750 [==============================] - 5s 7ms/step - loss: 0.4129 - accuracy: 0.8564 - val_loss: 0.3860 - val_accuracy: 0.8603\n",
            "Epoch 13/15\n",
            "750/750 [==============================] - 5s 7ms/step - loss: 0.4073 - accuracy: 0.8582 - val_loss: 0.3779 - val_accuracy: 0.8648\n",
            "Epoch 14/15\n",
            "750/750 [==============================] - 5s 7ms/step - loss: 0.4005 - accuracy: 0.8616 - val_loss: 0.3792 - val_accuracy: 0.8636\n",
            "Epoch 15/15\n",
            "750/750 [==============================] - 5s 7ms/step - loss: 0.3950 - accuracy: 0.8631 - val_loss: 0.3713 - val_accuracy: 0.8649\n"
          ]
        }
      ]
    },
    {
      "cell_type": "code",
      "source": [
        "import matplotlib.pyplot as plt\n",
        "plt.plot(training.history['accuracy'])\n",
        "plt.plot(training.history['val_accuracy'])\n",
        "plt.ylabel('accuracy')\n",
        "plt.xlabel('epoch')\n",
        "plt.show()"
      ],
      "metadata": {
        "colab": {
          "base_uri": "https://localhost:8080/",
          "height": 278
        },
        "id": "u9ByR_Oeto0E",
        "outputId": "35e84729-795b-499d-e2dd-cbd046dd07f2"
      },
      "execution_count": 86,
      "outputs": [
        {
          "output_type": "display_data",
          "data": {
            "text/plain": [
              "<Figure size 432x288 with 1 Axes>"
            ],
            "image/png": "[encoded data removed]"
          },
          "metadata": {
            "needs_background": "light"
          }
        }
      ]
    },
    {
      "cell_type": "code",
      "source": [
        "model_1.evaluate(x_test,y_test)"
      ],
      "metadata": {
        "colab": {
          "base_uri": "https://localhost:8080/"
        },
        "id": "0-F_VtLhto0F",
        "outputId": "28e13026-57ef-40af-8bfc-a71145c8c8a5"
      },
      "execution_count": 87,
      "outputs": [
        {
          "output_type": "stream",
          "name": "stdout",
          "text": [
            "313/313 [==============================] - 1s 3ms/step - loss: 0.3970 - accuracy: 0.8557\n"
          ]
        },
        {
          "output_type": "execute_result",
          "data": {
            "text/plain": [
              "[0.3970307409763336, 0.8557000160217285]"
            ]
          },
          "metadata": {},
          "execution_count": 87
        }
      ]
    },
    {
      "cell_type": "code",
      "source": [
        "model_1.summary()"
      ],
      "metadata": {
        "colab": {
          "base_uri": "https://localhost:8080/"
        },
        "id": "en8J65u8to0F",
        "outputId": "aeb1cd6d-10fe-4d16-c691-de02d6292795"
      },
      "execution_count": 88,
      "outputs": [
        {
          "output_type": "stream",
          "name": "stdout",
          "text": [
            "Model: \"sequential_13\"\n",
            "_________________________________________________________________\n",
            " Layer (type)                Output Shape              Param #   \n",
            "=================================================================\n",
            " dense_layer1 (Dense)        (None, 500)               392500    \n",
            "                                                                 \n",
            " dense_layer2 (Dense)        (None, 100)               50100     \n",
            "                                                                 \n",
            " dropout_5 (Dropout)         (None, 100)               0         \n",
            "                                                                 \n",
            " dense_layer3 (Dense)        (None, 10)                1010      \n",
            "                                                                 \n",
            "=================================================================\n",
            "Total params: 443,610\n",
            "Trainable params: 443,610\n",
            "Non-trainable params: 0\n",
            "_________________________________________________________________\n"
          ]
        }
      ]
    },
    {
      "cell_type": "markdown",
      "source": [
        "Parameter to be chosen to classify images- Batch size, Epochs"
      ],
      "metadata": {
        "id": "Yu-gCjr3wE0a"
      }
    }
  ]
}